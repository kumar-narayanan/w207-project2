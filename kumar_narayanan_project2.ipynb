{
 "cells": [
  {
   "cell_type": "markdown",
   "metadata": {
    "id": "iNALzZOKTzOS"
   },
   "source": [
    "# Project 2: Digit Classification Naive Bayes\n",
    "\n",
    "**Solution**"
   ]
  },
  {
   "cell_type": "markdown",
   "metadata": {
    "id": "EBRkdIUUTzOV"
   },
   "source": [
    "# Intro\n",
    "---\n",
    "In this project, you'll continue working on your own image recognition system for classifying digits. Read through the code and the instructions carefully and add your own code where indicated. Each problem can be addressed succinctly with the included packages -- please don't add any more. \n",
    "As always, you're welcome to work on the project in groups and discuss ideas over Slack, but <b> please prepare your own write-up (with your own code). </b>\n",
    "\n",
    "\n",
    "## Grading\n",
    "---\n",
    " - Make sure to answer every part in every question.\n",
    " - There are 6 questions, each equally weighted and an additional bonus question.\n",
    " - The extra credit question will be graded based on your attempts at feature engineering and resulting improved accuracy.\n",
    " - Read carefully what is asked including the notes.\n",
    " - Additional points may be deducted if:\n",
    "   - the code is not clean, well commented,\n",
    "  -  if the functions or answers are too long.\n",
    "\n",
    "## Requirements:\n",
    "---\n",
    "1. Comment your code.\n",
    "1. All graphs should have titles, label for each axis, and if needed a legend. It should be understandable on its own.\n",
    "1. All code must run on colab.research.google.com\n",
    "1. You should not import any additional libraries.\n",
    "1. Try and minimize the use of the global namespace (meaning keep things in functions).\n",
    "\n",
    "## Additional Reading and notes\n",
    "---\n",
    "If you're interested, check out these links related to digit recognition:\n",
    "\n",
    "* Yann Lecun's MNIST benchmarks: http://yann.lecun.com/exdb/mnist/\n",
    "* Stanford Streetview research and data: http://ufldl.stanford.edu/housenumbers/\n",
    "\n",
    "Finally, if you'd like to get started with Tensorflow, you can read through this tutorial: https://www.tensorflow.org/tutorials/keras/basic_classification. It uses a dataset called \"fashion_mnist\", which is identical in structure to the original digit mnist, but uses images of clothing rather than images of digits. The number of training examples and number of labels is the same. In fact, you can simply replace the code that loads \"fashion_mnist\" with \"mnist\" and everything should work fine."
   ]
  },
  {
   "cell_type": "code",
   "execution_count": 1,
   "metadata": {
    "id": "r8u7GmsDTzOX"
   },
   "outputs": [],
   "source": [
    "# This tells matplotlib not to try opening a new window for each plot.\n",
    "%matplotlib inline\n",
    "\n",
    "# Import a bunch of libraries.\n",
    "import time\n",
    "import numpy as np\n",
    "import pandas as pd\n",
    "import matplotlib.pyplot as plt\n",
    "from matplotlib.ticker import MultipleLocator\n",
    "from sklearn.pipeline import Pipeline\n",
    "from sklearn.datasets import fetch_openml\n",
    "from sklearn.neighbors import KNeighborsClassifier\n",
    "from sklearn.metrics import confusion_matrix\n",
    "from sklearn.linear_model import LinearRegression\n",
    "from sklearn.naive_bayes import BernoulliNB\n",
    "from sklearn.naive_bayes import MultinomialNB\n",
    "from sklearn.naive_bayes import GaussianNB\n",
    "from sklearn.model_selection import GridSearchCV\n",
    "from sklearn.metrics import classification_report\n",
    "\n",
    "# Set the randomizer seed so results are the same each time.\n",
    "np.random.seed(0)"
   ]
  },
  {
   "cell_type": "code",
   "execution_count": 2,
   "metadata": {
    "id": "bWOWoq_dTzOY"
   },
   "outputs": [
    {
     "data": {
      "text/plain": [
       "'0.23.2'"
      ]
     },
     "execution_count": 2,
     "metadata": {},
     "output_type": "execute_result"
    }
   ],
   "source": [
    "import sklearn\n",
    "sklearn.__version__"
   ]
  },
  {
   "cell_type": "markdown",
   "metadata": {
    "id": "J1-CAjA9TzOa"
   },
   "source": [
    "Load the data. Notice that the data gets partitioned into training, development, and test sets. Also, a small subset of the training data called mini_train_data and mini_train_labels gets defined, which you should use in all the experiments below, unless otherwise noted."
   ]
  },
  {
   "cell_type": "code",
   "execution_count": 3,
   "metadata": {
    "id": "f9kPmCW0TzOb"
   },
   "outputs": [
    {
     "name": "stdout",
     "output_type": "stream",
     "text": [
      "data shape:  (70000, 784)\n",
      "label shape: (70000,)\n"
     ]
    }
   ],
   "source": [
    "# Load the digit data from https://www.openml.org/d/554 or from default local location '~/scikit_learn_data/...'\n",
    "X, Y = fetch_openml(name='mnist_784', return_X_y=True, cache=False)\n",
    "\n",
    "# Rescale grayscale values to [0,1].\n",
    "X = X / 255.0\n",
    "\n",
    "# Shuffle the input: create a random permutation of the integers between 0 and the number of data points and apply this\n",
    "# permutation to X and Y.\n",
    "# NOTE: Each time you run this cell, you'll re-shuffle the data, resulting in a different ordering.\n",
    "shuffle = np.random.permutation(np.arange(X.shape[0]))\n",
    "X, Y = X[shuffle], Y[shuffle]\n",
    "\n",
    "print('data shape: ', X.shape)\n",
    "print('label shape:', Y.shape)\n",
    "\n",
    "# Set some variables to hold test, dev, and training data.\n",
    "test_data, test_labels = X[61000:], Y[61000:]\n",
    "dev_data, dev_labels = X[60000:61000], Y[60000:61000]\n",
    "train_data, train_labels = X[:60000], Y[:60000]\n",
    "mini_train_data, mini_train_labels = X[:1000], Y[:1000]"
   ]
  },
  {
   "cell_type": "markdown",
   "metadata": {
    "id": "gr40-NstTzOl"
   },
   "source": [
    "### Question 1: Applying a smoothing using numpy.\n",
    "---\n",
    "\n",
    "A common image processing technique is to smooth an image by **blurring**. The idea is that the value of a particular pixel is estimated as the weighted combination of the original value and the values around it. Typically, the blurring is Gaussian, i.e., the weight of a pixel's influence is determined by a Gaussian function over the distance to the relevant pixel.\n",
    "\n",
    "1. Implement a simplified Gaussian blur filter by just using the 8 neighboring pixels like this: the smoothed value of a pixel is a weighted combination of the original value and the 8 neighboring values.\n",
    "1. Choose some weights as a starting point. Produce and evaluate four 1-Nearest Neighbor models by applying your blur filter in these ways:\n",
    "  1. Do not use the filter\n",
    "  1. Filter the training data but not the dev data\n",
    "  1. Filter the dev data but not the training data\n",
    "  1. Filter both training data and dev data\n",
    "1. Show the accuracies of the four models evaluated as described. What do you see? Can you explain why this is?\n",
    "1. Experiment with weights that makes one model's accuracy at least 0.9.\n",
    "\n",
    "Notes:\n",
    "* Train on the (filtered) mini train set.\n",
    "* Evaluate performance on the (filtered) dev set.\n",
    "* A good trick to simplify your code is to use numpy's pad function to add 0s around your original array so you don't have to deal with \"edge cases\".\n",
    "* In addition, you can use numpy to multiply and sum slices of two arrays.\n",
    "* [This notebook](https://colab.research.google.com/drive/1eJXTQLtREXQjQIsLOA9uCrBl6B049-pO) might help shows some example numpy code.\n",
    "* In general, [numpy operations will be much faster than for loops](https://colab.research.google.com/drive/1KJI4JtuIqVdyZHTTe_mAlKYA5XdLFp3_). \n",
    "* There are other Guassian blur filters available, for example in `scipy.ndimage.filters`. You are welcome to experiment with those, but in this question, please implement your own."
   ]
  },
  {
   "cell_type": "code",
   "execution_count": 4,
   "metadata": {
    "id": "ebHGUU0eTzOl"
   },
   "outputs": [
    {
     "name": "stdout",
     "output_type": "stream",
     "text": [
      "No Filter: 1-Nearest Neighbor fit\n",
      "           Accuracy: 0.884\n",
      "--------------------------------------------\n",
      "Blur Train Data: 1-Nearest Neighbor fit\n",
      "           Accuracy: 0.891\n",
      "\n",
      "    Images of a few of the blurred digits\n"
     ]
    },
    {
     "data": {
      "image/png": "[encoded data removed]",
      "text/plain": [
       "<Figure size 1440x360 with 20 Axes>"
      ]
     },
     "metadata": {
      "needs_background": "light"
     },
     "output_type": "display_data"
    },
    {
     "name": "stdout",
     "output_type": "stream",
     "text": [
      "--------------------------------------------\n",
      "Blur Dev Data: 1-Nearest Neighbor fit\n",
      "           Accuracy: 0.871\n",
      "--------------------------------------------\n",
      "Blur Train, Dev data: 1-Nearest Neighbor fit\n",
      "           Accuracy: 0.908\n"
     ]
    }
   ],
   "source": [
    "def Q1():\n",
    "    \n",
    "### STUDENT START ###\n",
    "\n",
    "    def weighted_blur(image_data, nbrs=8):\n",
    "        ''' image_data: an np array containing normalized (divided by 255) pixel value\n",
    "            nbrs: # of neighbors to be considered for every pixel in 2^n; 2^3 by default\n",
    "            \n",
    "            Reshape image to a 28x28 matrix; pad this matrix with a row of 0s top and\n",
    "            bottom, and by a column of 0s on either side. So, 28x28 matrix is now 30x30.\n",
    "            \n",
    "            Starting from row = 1 till row = 27 followed by column = 1 till column = 27\n",
    "            (i.e for every pixel) extract a submatrix using index [row-1:3, column-1:3].\n",
    "            \n",
    "            Calculate the weighted average of the submatrix with the weight matrix to \n",
    "            form the new pixel\n",
    "            \n",
    "            Return the new matrix\n",
    "        '''\n",
    "        \n",
    "        sz = int(np.sqrt(image_data.shape[1])) # sqrt(784) for shaping into matrix\n",
    "        nbr_cnt = int(np.log2(nbrs)) # number of neighbor rows/columns for each pixel\n",
    "        wt = np.arange(.1, 1, .1).reshape(nbr_cnt, nbr_cnt) # used in weighthed avg. calc\n",
    "        wt_image_data = np.empty([0, image_data.shape[1]]) # init, to append new images\n",
    "        \n",
    "        for i in range(len(image_data)): # for every image in the data\n",
    "            image = (image_data[i]).reshape(sz, sz) # make it into 28x28 matrix\n",
    "            new_image = np.copy(image) # make a copy to overwrite with weighted calculations\n",
    "            image = np.pad(image, 1, mode='constant') # pad with 0s around to get 30x30 matrix\n",
    "            \n",
    "            for row in range(len(image) - 2): # for every row except padded rows\n",
    "                for col in range(len(image) - 2): # for evey col except padded cols\n",
    "                    new_image[row][col] = np.average(image[row: row+nbr_cnt, col: col+nbr_cnt], \n",
    "                                                     weights=wt) # weighted sum for new pixel\n",
    "            \n",
    "            new_image = new_image.flatten() # convert 28x28 array into 1-dim array\n",
    "            wt_image_data = np.append(wt_image_data, [new_image], axis=0) # same shape as image_data\n",
    "                   \n",
    "        return(wt_image_data)\n",
    "            \n",
    "    def plot_digits(d):\n",
    "        fig, axes = plt.subplots(nrows=2, ncols=10, figsize=(20, 5))\n",
    "        for i in range(1, 11): \n",
    "            digit_px = d[i*50-1]\n",
    "            digit_px_image = digit_px.reshape(28, 28) \n",
    "            ax = axes[0, i-1] \n",
    "            ax.imshow(digit_px_image, cmap=\"gray\")\n",
    "        for i in range(11, 21):\n",
    "            digit_px = d[i*50-1]\n",
    "            digit_px_image = digit_px.reshape(28, 28) \n",
    "            ax = axes[1, i-11] \n",
    "            ax.imshow(digit_px_image, cmap=\"gray\")\n",
    "        fig.tight_layout()\n",
    "        plt.show()\n",
    "    \n",
    "    def fit_1_NN(train_d, train_l, dev_d, dev_l, msg):\n",
    "        classifier = KNeighborsClassifier(n_neighbors=1)\n",
    "        classifier.fit(train_d, train_l)\n",
    "        y_pred = classifier.predict(dev_d)\n",
    "        r = classification_report(dev_l, y_pred, output_dict=True)\n",
    "        print(msg)\n",
    "        print(\"           Accuracy: %0.3f\" % r['accuracy'])\n",
    "        \n",
    "            \n",
    "    \n",
    "    fit_1_NN(mini_train_data, mini_train_labels, dev_data, dev_labels,\n",
    "             \"No Filter: 1-Nearest Neighbor fit\" )\n",
    "    print(\"--------------------------------------------\")    \n",
    "    \n",
    "    wt_mini_train_data = weighted_blur(mini_train_data)\n",
    "    fit_1_NN(wt_mini_train_data, mini_train_labels,dev_data, dev_labels, \n",
    "             \"Blur Train Data: 1-Nearest Neighbor fit\")\n",
    "    print()\n",
    "    print(\"    Images of a few of the blurred digits\")\n",
    "    plot_digits(wt_mini_train_data)\n",
    "    print(\"--------------------------------------------\")\n",
    "            \n",
    "    wt_dev_data = weighted_blur(dev_data)\n",
    "    fit_1_NN(mini_train_data, mini_train_labels, wt_dev_data, dev_labels, \n",
    "             \"Blur Dev Data: 1-Nearest Neighbor fit\")\n",
    "    print(\"--------------------------------------------\")\n",
    "            \n",
    "    fit_1_NN(wt_mini_train_data, mini_train_labels, wt_dev_data, dev_labels, \n",
    "             \"Blur Train, Dev data: 1-Nearest Neighbor fit\")\n",
    "\n",
    "### STUDENT END ###\n",
    "\n",
    "Q1()"
   ]
  },
  {
   "cell_type": "markdown",
   "metadata": {},
   "source": [
    "### Answer to 3:\n",
    "The 1-nearest Neighbor model does a decent job. We get an accuracy of 0.884. When we blur the training data the accuracy goes up to 0.891. However, when we blur only the dev_data we see a reduction in the accuracy. This is because of the fact that the training happened without blurring but the prediction is run on blurred data. The model was trained on non-blurred data. So, the model is better off predicting non-blurred data. Finally, when we use bluured data for both the training and testing we get an accuracy of a little over 0.9. \n"
   ]
  },
  {
   "cell_type": "markdown",
   "metadata": {
    "id": "aN3HZPGuTzOn"
   },
   "source": [
    "### Question 2: Modeling your data and experimenting with different Naive Bayes models. \n",
    "---\n",
    "\n",
    "1. Produce two Naive Bayes models and evaluate their performances.  Recall that Naive Bayes estimates P(feature|label), where each label is a categorical, not a real number.\n",
    "  1. For the first model, map pixel values to either 0 or 1, representing white or black - you should pre-process the data or use `BernoulliNB`'s `binarize` parameter to set the white/black separation threshold to 0.1.  Use `BernoulliNB` to produce the model.\n",
    "  1. For the second model, map pixel values to either 0, 1, or 2, representing white, gray, or black - you should pre-process the data, seting the white/gray/black separation thresholds to 0.1 and 0.9.  Here you'll likely need to implement a `trianarize` helper function. Since we are going beyond the binary representation of our features, you should use `MultinomialNB` to produce the model.\n",
    "1. Show the Bernoulli model accuracy and the Multinomial model accuracy.\n",
    "1. Does the multinomial version improve the results? Why or why not?\n",
    "\n",
    "Notes:\n",
    "* Train on the mini train set.\n",
    "* Evaluate performance on the dev set.\n",
    "\n"
   ]
  },
  {
   "cell_type": "code",
   "execution_count": 5,
   "metadata": {
    "id": "_1edM3ehTzOn"
   },
   "outputs": [
    {
     "name": "stdout",
     "output_type": "stream",
     "text": [
      "Bernoulli Navie Bayes model with Binarized Data\n",
      "           Accuracy: 0.814\n",
      "\n",
      "Multinomial Navie Bayes model with Trinarized Data\n",
      "           Accuracy: 0.807\n"
     ]
    }
   ],
   "source": [
    "# Solution with binarization by explicit binarize function\n",
    "\n",
    "def Q2():\n",
    "\n",
    "### STUDENT START ###\n",
    "    def binarize_trinarize(d, threshold):\n",
    "        ''' d: np array whose values will be used to check against the thresghold\n",
    "            threshold: list of threshold values to be used - 1 element mean binarize,\n",
    "                       2 elements mean trinarize\n",
    "            If binarize (only 1 element in threshold list), check if each element in \n",
    "            d is < the threshold and if so mark 0; else mark 1.\n",
    "            If trinarize (2 elements in threshold) then \n",
    "                - if elements in d is lower than 1st threshold set it to 0 \n",
    "                - if elements in d > 2nd threshold set it to 2\n",
    "                - if neither set then set it to 1\n",
    "        '''       \n",
    "        if len(threshold) == 1:\n",
    "            bin_data = np.zeros(d.shape) # init an array of all zero to match the incoming array DIMs\n",
    "            bin_data[(d >= threshold[0])] = 1\n",
    "        elif len(threshold) == 2:\n",
    "            bin_data = np.ones(d.shape) # init an array of all zero to match the incoming array DIMs\n",
    "            bin_data[(d > threshold[1])] = 2\n",
    "            bin_data[(d < threshold[0])] = 0\n",
    "        else:\n",
    "            print(\"Wrong threshold list specification\")\n",
    "            return None\n",
    "        \n",
    "        return bin_data\n",
    "    \n",
    "    # run BernoulliNB with binarized data\n",
    "    bin_mini_train_data = binarize_trinarize(mini_train_data, [0.1])\n",
    "    bin_dev_data = binarize_trinarize(dev_data, [0.1])\n",
    "    \n",
    "    model_bin = BernoulliNB()\n",
    "    model_bin.fit(bin_mini_train_data, mini_train_labels)\n",
    "    accuracy = model_bin.score(bin_dev_data, dev_labels)\n",
    "    print(\"Bernoulli Navie Bayes model with Binarized Data\")\n",
    "    print(\"           Accuracy: %0.3f\" % accuracy)\n",
    "    print()\n",
    "    \n",
    "    # run MultinomialNB\n",
    "    tri_mini_train_data = binarize_trinarize(mini_train_data, [0.1, 0.9])\n",
    "    tri_dev_data = binarize_trinarize(dev_data, [0.1, 0.9])\n",
    "    \n",
    "    model_tri = MultinomialNB()\n",
    "    model_tri.fit(tri_mini_train_data, mini_train_labels)\n",
    "    accuracy = model_tri.score(tri_dev_data, dev_labels)\n",
    "    print(\"Multinomial Navie Bayes model with Trinarized Data\")\n",
    "    print(\"           Accuracy: %0.3f\" % accuracy)\n",
    "    \n",
    "### STUDENT END ###\n",
    "\n",
    "Q2()"
   ]
  },
  {
   "cell_type": "markdown",
   "metadata": {
    "id": "Bbbpzl5ETzOp"
   },
   "source": [
    "ANSWER: \n",
    "The MultinomialNB model performs somewhat lower in terms of accuracy as can be seen by the resutls. Very likely, the case is that adding an additional categorical variable is really not helping. The picture is pretty much explained by whether a black or white pixel exists in each elemnet of the 28x28 grid. The additional of the gray category takes away from black and doesn't add much. \n",
    "\n",
    "Note: If anything, playing with the alpha value in BenoulliNB may be a better option to get better accuracy. While I haven't shown the code an alpha value of 0.005 does increase the accuracu to 0.83."
   ]
  },
  {
   "cell_type": "markdown",
   "metadata": {
    "id": "ymzuQZwsTzOp"
   },
   "source": [
    "### Question 3: Applying the grid search technique.\n",
    "1. Search across several values of the LaPlace smoothing parameter (alpha) to find its effect on a Bernoulli Naive Bayes model's performance.  Show the accuracy at each alpha value.\n",
    "1. What is the best value for alpha? What is the accuracy when alpha is near 0? Is this what you'd expect?\n",
    "\n",
    "Notes:\n",
    "* Set binarization threshold to 0.\n",
    "* Train on the mini train set.\n",
    "* Evaluate performance by 5-fold cross-validation. \n",
    "* Use `GridSearchCV(..., ..., cv=..., scoring='accuracy', iid=False)` to vary alpha and evaluate performance by cross-validation.\n",
    "* Cross-validation is based on partitions of the training data, so results will be a bit different than if you had used the dev set to evaluate performance.\n",
    "\n"
   ]
  },
  {
   "cell_type": "code",
   "execution_count": 6,
   "metadata": {
    "id": "1qc1fG0OTzOq"
   },
   "outputs": [
    {
     "name": "stdout",
     "output_type": "stream",
     "text": [
      "Best estimator: BernoulliNB(alpha=0.01) has optiaml alpha 0.01\n",
      "Best Accuracy obtained: 0.83\n",
      "Accuracies obained are: [0.823 0.826 0.826 0.829 0.819 0.823 0.815 0.816 0.791]\n",
      "  Alpha            Accuracy\n",
      "   1e-10            0.823\n",
      "  0.0001            0.826\n",
      "  0.0010            0.826\n",
      "  0.0100            0.829\n",
      "  0.1000            0.819\n",
      "  0.5000            0.823\n",
      "  1.0000            0.815\n",
      "  2.0000            0.816\n",
      " 10.0000            0.791\n"
     ]
    }
   ],
   "source": [
    "def Q3(alphas):\n",
    "\n",
    "### STUDENT START ###\n",
    "    \n",
    "    bin_mini_train_data = np.zeros(mini_train_data.shape) # create an all 0 array\n",
    "    bin_dev_data = np.zeros(dev_data.shape)\n",
    "    \n",
    "    bin_mini_train_data[(mini_train_data >= 0.1)] = 1 # flip to 1 based on threshold (0.1)\n",
    "    bin_dev_data[(dev_data >= 0.1)] = 1\n",
    "    \n",
    "    model_grid = GridSearchCV(estimator=BernoulliNB(binarize=0.0), param_grid=alphas, \n",
    "                             cv=5, scoring=\"accuracy\") # create the grid model\n",
    "    \n",
    "    model_grid.fit(bin_mini_train_data, mini_train_labels) # train on the binarized train data\n",
    "    #model_grid.fit(mini_train_data, mini_train_labels)\n",
    "    \n",
    "    r = model_grid.score(bin_dev_data, dev_labels) \n",
    "    #r = model_grid.score(dev_data, dev_labels)\n",
    "    \n",
    "    res_grid_scores = model_grid.cv_results_['mean_test_score']\n",
    "    \n",
    "    \n",
    "    print(\"Best estimator:\", model_grid.best_estimator_, \"has optiaml alpha\", model_grid.best_params_['alpha'])\n",
    "    print(\"Best Accuracy obtained:\", r)\n",
    "    print(\"Accuracies obained are:\", res_grid_scores)\n",
    "    \n",
    "    print(\"  Alpha  \", \"         Accuracy\")\n",
    "    for i in range(len(res_grid_scores)):\n",
    "        accuracy = res_grid_scores[i]\n",
    "        if i == 0:\n",
    "            print(\"  \",alphas['alpha'][i], \"           %0.3f\" % accuracy)\n",
    "        elif i == len(res_grid_scores) - 1:\n",
    "            print(\" %2.4f\" % alphas['alpha'][i], \"           %0.3f\" % accuracy)\n",
    "        else:\n",
    "            print(\"  %2.4f\" % alphas['alpha'][i], \"           %0.3f\" % accuracy)\n",
    "\n",
    "### STUDENT END ###\n",
    "\n",
    "alphas = {'alpha': [1.0e-10, 0.0001, 0.001, 0.01, 0.1, 0.5, 1.0, 2.0, 10.0]}\n",
    "Q3(alphas)\n"
   ]
  },
  {
   "cell_type": "markdown",
   "metadata": {
    "id": "6g4fnGFPTzOq"
   },
   "source": [
    "ANSWER: \n",
    "We get the best accuracy when alpha = 0.01.\n",
    "\n",
    "When alpha is near zero the accuracy is lower. The difference, for the set of alphas provided, is close 0.006, for the lowest alpha value. The alpha value has the effect of smoothing the extremes - alpha substitutes itself for the case of zero-valued pixels. As alpha grows slowly from 0 it improve accuracy up to a point (0.01 in this case). Subsequent growth of alpha isn't helping any more. In fact, it influences pixel values of 0 so much that the accuracy of predection goes down."
   ]
  },
  {
   "cell_type": "markdown",
   "metadata": {
    "id": "aQ6MaDU6TzOr"
   },
   "source": [
    "### Question 4: Experimenting with Gaussian Naive Bayes\n",
    "---\n",
    "1. Produce a model using Guassian Naive Bayes, which is intended for real-valued features, and evaluate performance. You will notice that it does not work so well. \n",
    "1. Diagnose and explain the problem.\n",
    "1. Apply a simple fix so that the model accuracy is around the same as for a Bernoulli Naive Bayes model. \n",
    "1. Show the model accuracy before your fix and the model accuracy after your fix.  \n",
    "1. Explain your solution.\n",
    "\n",
    "Notes:\n",
    "* Train on the mini train set.\n",
    "* Evaluate performance on the dev set.\n",
    "* Take a look at var_smoothing argument for GaussianNB.\n",
    "* Feel free to  examine theta and sigma to better understand what's happening. In general though, **it is not a good idea to mess with internal variables of the model**. These are stored in the model's `theta_` and `sigma_` attributes."
   ]
  },
  {
   "cell_type": "code",
   "execution_count": 7,
   "metadata": {
    "id": "XqW86YbKTzOr"
   },
   "outputs": [
    {
     "name": "stdout",
     "output_type": "stream",
     "text": [
      "Accuracy score from Gaussian Naive Bais (no smoothing fix): 0.593\n",
      "Accuracy score from Gaussian Naive Bais (with smoothing fix): 0.819\n"
     ]
    }
   ],
   "source": [
    "def Q4():\n",
    "\n",
    "### STUDENT END ###\n",
    "    model_GNB = GaussianNB() # init Gaussian Naive Bayes\n",
    "    model_GNB.fit(mini_train_data, mini_train_labels) # train with the mini_train_data\n",
    "    \n",
    "    model_GNB_score = model_GNB.score(dev_data, dev_labels)\n",
    "    \n",
    "    print(\"Accuracy score from Gaussian Naive Bais (no smoothing fix):\", model_GNB_score)\n",
    "    \n",
    "    \n",
    "    model_smooth_GNB = GaussianNB(var_smoothing = 0.086)\n",
    "    model_smooth_GNB.fit(mini_train_data, mini_train_labels)\n",
    "    \n",
    "    model_smooth_GNB_score = model_smooth_GNB.score(dev_data, dev_labels)\n",
    "    \n",
    "    print(\"Accuracy score from Gaussian Naive Bais (with smoothing fix):\", model_smooth_GNB_score)\n",
    "    \n",
    "### STUDENT END ###\n",
    "\n",
    "Q4()"
   ]
  },
  {
   "cell_type": "markdown",
   "metadata": {
    "id": "wE5eQXsPTzOs"
   },
   "source": [
    "ANSWER: \n",
    "The Gaussian Naive Bayes gives a poor accuracy score in its default form for this data case. The matrix of image pixel values have fair amount of zeros, which in turn leads to several multiplication by zero effects. \n",
    "\n",
    "This is where the var_smoothing parameter in the GaussianNB helps. This parameter adds to the variance. Adding a small variance (similar to alpha in BernoulliNB) we can improve the model.\n",
    "\n",
    "As shown by the results, the smoothing fix does improve the accuracy. After a few iterations the values between 0.84 to 0.88 seems to be at least a local maxima - i.e values between 0.84 and 0.88 gives an accuracy of 0.819, while lower than 0.84 or higher that 0.88 seems to reduce accuracy, though, very slowly.\n",
    "\n",
    "A Gaussian curve is a like a band-pass filter around the mean - the most allowed values are around the mean. If the mean is 0 or close to zero it's like a low-pass filter, allowing values near 0 to flow through Vs the more spread out values. This kind of filtering may not be appropriate as in the case of the image matrix - includes values closer to 0 and dropping off quickly as we move away from 0. By adding a small value to the variance through the var_smoothing parameter we smooth/flatten/broaden the curve, allowing more values to be included. This leads to better accuracy."
   ]
  },
  {
   "cell_type": "markdown",
   "metadata": {
    "id": "AXx4SGNeTzOs"
   },
   "source": [
    "### Question 5: Naive Bayes as a generative model\n",
    "---\n",
    "Because Naive Bayes produces a generative model, you can use it to generate digit images.\n",
    "\n",
    "1. Produce a Bernoulli Naive Bayes model and then use it to generate a 10x10 grid with 10 example images of each digit. Each pixel output will be either 0 or 1: randomly generating a number and then comparing it to the estimated probability of the pixel being either 0 or 1.  Show the grid.\n",
    "1. How do the generated digit images compare to the training digit images?\n",
    "\n",
    "Notes:\n",
    "* You can use np.random.rand() to generate random numbers from a uniform distribution.\n",
    "* The estimated probability of each pixel being 0 or 1 is stored in the model's `feature_log_prob_` attribute. You can use `np.exp()` to convert a log probability back to a probability.\n",
    "\n"
   ]
  },
  {
   "cell_type": "code",
   "execution_count": 8,
   "metadata": {
    "id": "WDCNbv7ETzOt",
    "scrolled": false
   },
   "outputs": [
    {
     "name": "stdout",
     "output_type": "stream",
     "text": [
      "Shape of model_BNB_prob: (10, 784)\n",
      "\n",
      "Generated Digits:\n"
     ]
    },
    {
     "data": {
      "image/png": "[encoded data removed]",
      "text/plain": [
       "<Figure size 1440x1440 with 100 Axes>"
      ]
     },
     "metadata": {
      "needs_background": "light"
     },
     "output_type": "display_data"
    },
    {
     "name": "stdout",
     "output_type": "stream",
     "text": [
      "\n",
      "Images of some digits from binarized training data\n"
     ]
    },
    {
     "data": {
      "image/png": "[encoded data removed]",
      "text/plain": [
       "<Figure size 1440x360 with 20 Axes>"
      ]
     },
     "metadata": {
      "needs_background": "light"
     },
     "output_type": "display_data"
    }
   ],
   "source": [
    "def Q5(num_examples):\n",
    "\n",
    "### STUDENT START ###\n",
    "    bin_mini_train_data = np.zeros(mini_train_data.shape) # create an all 0 array\n",
    "    \n",
    "    bin_mini_train_data[(mini_train_data >= 0.1)] = 1 # flip to 1 based on threshold (0.1)\n",
    "    \n",
    "    model_BNB = BernoulliNB(alpha=0.01) # use the best alpha (Question #3) for the data\n",
    "    model_BNB.fit(bin_mini_train_data, mini_train_labels)\n",
    "    \n",
    "    model_BNB_prob = model_BNB.feature_log_prob_ # extract the probabilities for each pixel\n",
    "    print(\"Shape of model_BNB_prob:\", model_BNB_prob.shape)\n",
    "    \n",
    "    # model_BNB_prob is a matrix with 10 rows (0 - 9) and 784 columns, with probability for\n",
    "    # each pixel, for each digit. Row i is for digit i with each column for row i holding the\n",
    "    # log probability value.\n",
    "    cols = model_BNB_prob.shape[1] # extract the number of columns in model_BNB_prob\n",
    "    img_sz = int(np.sqrt(cols))\n",
    "    \n",
    "    print()\n",
    "    print(\"Generated Digits:\")\n",
    "    fig, axes = plt.subplots(nrows=model_BNB_prob.shape[0], ncols=num_examples, figsize=(20, 20))\n",
    "    \n",
    "    for i in range(0, num_examples): # the 2 for loops are for the 10x10 grid to generate numbers\n",
    "        for j in range(0, model_BNB_prob.shape[0]):\n",
    "            rand_digit = np.random.rand(cols) # row vector of 784, each a random # between 0 & 1\n",
    "            digit_pixel = np.zeros(cols) # start with set all pixel to 0\n",
    "            for k in range(cols): # sweep through the elements of digit_pixel\n",
    "                if rand_digit[k] <= np.exp(model_BNB_prob[j][k]): # compare the probabilities\n",
    "                    digit_pixel[k] = 1 # flip to 1 if rand_digit lower than model probability\n",
    "\n",
    "            digit_px_image = digit_pixel.reshape(img_sz, img_sz)\n",
    "            ax = axes[j, i]\n",
    "            ax.imshow(digit_px_image, cmap=\"gray\")\n",
    "     \n",
    "    fig.tight_layout()\n",
    "    plt.show()\n",
    "    \n",
    "    # show images from some of binarized trainig data\n",
    "    print()\n",
    "    print(\"Images of some digits from binarized training data\")\n",
    "    fig, axes = plt.subplots(nrows=2, ncols=10, figsize=(20, 5))\n",
    "    for i in range(1, 11): \n",
    "        digit_px = bin_mini_train_data[i*30-1]\n",
    "        digit_px_image = digit_px.reshape(28, 28) \n",
    "        ax = axes[0, i-1] \n",
    "        ax.imshow(digit_px_image, cmap=\"gray\")\n",
    "    for i in range(11, 21):\n",
    "        digit_px = bin_mini_train_data[i*50-1]\n",
    "        digit_px_image = digit_px.reshape(28, 28) \n",
    "        ax = axes[1, i-11] \n",
    "        ax.imshow(digit_px_image, cmap=\"gray\")\n",
    "    \n",
    "    fig.tight_layout()\n",
    "    plt.show()\n",
    "            \n",
    "### STUDENT END ###\n",
    "\n",
    "Q5(10)"
   ]
  },
  {
   "cell_type": "markdown",
   "metadata": {
    "id": "2ENXdzngTzOu"
   },
   "source": [
    "ANSWER: \n",
    "Clearly, the generated images (the 1st 10x10 grid) are more grainy compared to the images generated from the binarized training data (the last two rows). The amount of quantization noise added during binarization (separation into 0 and 1 based on threshold) is lower than the noise we add when we quantize by comparing to randomly generated values to decide between pixel values of 0 and 1."
   ]
  },
  {
   "cell_type": "markdown",
   "metadata": {
    "id": "CRkUEi50TzOu"
   },
   "source": [
    "### Question 6: Model Calibraiton\n",
    "---\n",
    "Recall that:\n",
    " * a **strongly calibrated** classifier is rougly 90% accurate when it says it is 90% accurate. The model's estimated posterior probability of the predicted class is indeed 0.9. \n",
    " * A **weakly calibrated** classifier is more accurate when it \"says\" it is more accurate. The actual accuracy is higher when the model's estimated posterior probability is higher.\n",
    " * A **poorly calibrated** classifier has no positive correlation between the model's estimate posterior probability and the actual accuracy.\n",
    "\n",
    "1. Produce a Bernoulli Naive Bayes model.  \n",
    "1. Evaluate performance: \n",
    "  1. Partition the dev set into several buckets based on the estimated posterior probabilities of the predicted classes (predict_proba)\n",
    "    - Think of it as a bin in a histogram, where each bin groups a range of estimated posterior probabilities of the predicted classes (predict_proba).\n",
    "    - Then estimate the actual accuracy the classifier achieved for each bucket. \n",
    "    - So, for each prediction:\n",
    "       - Find the bucket whose range includes the estimated posterior probability, \n",
    "       - and update \"correct\" and \"total\" counters accordingly. \n",
    "       - Show the accuracy for each bucket.\n",
    "1. How would you characterize the calibration for this Bernoulli Naive Bayes model according to the definitions above?\n",
    "\n",
    "Notes:\n",
    "* Set LaPlace smoothing (alpha) to the optimal value (from part 8).\n",
    "* Set binarization threshold to 0.\n",
    "* Train on the mini train set.\n",
    "* Evaluate perfromance on the dev set.\n",
    "\n"
   ]
  },
  {
   "cell_type": "code",
   "execution_count": 10,
   "metadata": {
    "id": "3Gz3NDY9TzOu"
   },
   "outputs": [
    {
     "name": "stdout",
     "output_type": "stream",
     "text": [
      "Posterior Probability Matrix shape: (1000, 10)\n",
      "First row of the Probability Matrix:\n",
      "[2.47063408e-72 3.86021681e-69 1.64081052e-14 1.13922696e-05\n",
      " 4.43274541e-22 5.68633943e-14 8.64043057e-22 2.08222118e-40\n",
      " 9.99988608e-01 4.18481328e-35]\n",
      "First digit in the predicted value y_pred: 8\n",
      "Probabilty of digit 8 is 0.999988607730279\n",
      "\n",
      "Probability Bucket   Total   Correct    Accuracy\n",
      "  0.5000000000000       0       0          NA \n",
      "  0.9000000000000      36      14        0.389\n",
      "  0.9990000000000      61      28        0.459\n",
      "  0.9999900000000      69      39        0.565\n",
      "  0.9999999000000      53      31        0.585\n",
      "  0.9999999990000      51      42        0.824\n",
      "  0.9999999999900      47      37        0.787\n",
      "  0.9999999999999      49      39        0.796\n",
      "  1.0000000000000     634     600        0.946\n"
     ]
    }
   ],
   "source": [
    "def Q6(buckets, correct, total):\n",
    "    \n",
    "### STUDENT START ###\n",
    "\n",
    "    bin_mini_train_data = np.zeros(mini_train_data.shape) # create an all 0 array\n",
    "    bin_dev_data = np.zeros(dev_data.shape)\n",
    "    \n",
    "    bin_mini_train_data[(mini_train_data >= 0.1)] = 1 # flip to 1 based on threshold (0.1)\n",
    "    bin_dev_data[(dev_data >= 0.1)] = 1\n",
    "    \n",
    "    model_BNB = BernoulliNB(alpha=0.01) # use the best alpha (Question #3) for the data\n",
    "    model_BNB.fit(bin_mini_train_data, mini_train_labels)\n",
    "    \n",
    "    y_pred = model_BNB.predict(bin_dev_data)\n",
    "    y_posterior = model_BNB.predict_proba(bin_dev_data)\n",
    "    \n",
    "    print(\"Posterior Probability Matrix shape:\", y_posterior.shape)\n",
    "    print(\"First row of the Probability Matrix:\")\n",
    "    print(y_posterior[0])\n",
    "    print(\"First digit in the predicted value y_pred:\", y_pred[0])\n",
    "    \n",
    "    # Posterior probability matrix has the probability for each label (in y_pred) for \n",
    "    # each digit. This matrix has 1000 rows (one corresponding to each predicted \n",
    "    # value in y_pred) and 10 rows (the probability value for each of the digits).\n",
    "    \n",
    "    # From the print displays of the first row of the probability matrix it's clear \n",
    "    # that the predicted digit is extremely likely to be 8. All probability values, \n",
    "    # except the 8th (counting from 0) is extremely small, and the one for digit 8 \n",
    "    # is very close to 1. This is further confirmed by the first value of the y_pred \n",
    "    # vector.\n",
    "    \n",
    "    y_pred_digit_prob = [] # init list to get prob associated with each y_pred digit in y_pred\n",
    "    for i in range(len(y_pred)): # for each predicted digit\n",
    "        digit = int(y_pred[i]) # get the int equivalent of the digit\n",
    "        y_pred_digit_prob.append(y_posterior[i][digit]) # extract digit probability \n",
    "        \n",
    "    print(\"Probabilty of digit\", y_pred[0], \"is\", y_pred_digit_prob[0])\n",
    "    \n",
    "    # for each digit probability check which bucket value in the buckets list it falls.\n",
    "    # Increment total for that bucket. Then match the predicted and actual value. If\n",
    "    # matched then increment the counter corresponding to the bin in the correct list.\n",
    "    for i in range(len(y_pred_digit_prob)):\n",
    "        for j in range(len(buckets)):\n",
    "            if y_pred_digit_prob[i] <= buckets[j]: # found the bucket from the bucket list\n",
    "                total[j] += 1 # increment total for that bucket\n",
    "                if y_pred[i] == dev_labels[i]: # if predicted and actual value are equal\n",
    "                    correct[j] += 1 # then increment the correct counter for that bucket\n",
    "                break;\n",
    "    \n",
    "    print()\n",
    "    print(\"Probability Bucket\", \"  Total \", \" Correct  \", \" Accuracy\")            \n",
    "    for i in range(len(buckets)):\n",
    "        if total[i] !=0: \n",
    "            accuracy = correct[i] / total[i]\n",
    "            print(\"  %1.13f\" % buckets[i], \"   %4d  \" % total[i], \"  %3d   \" % correct[i], \"    %0.3f\" % accuracy) \n",
    "        else:\n",
    "            print(\"  %1.13f\" % buckets[i], \"   %4d  \" % total[i], \"  %3d   \" % correct[i], \"      NA \")\n",
    "        \n",
    "        \n",
    "\n",
    "### STUDENT END ###\n",
    "\n",
    "buckets = [0.5, 0.9, 0.999, 0.99999, 0.9999999, 0.999999999, 0.99999999999, 0.9999999999999, 1.0]\n",
    "correct = [0 for i in buckets]\n",
    "total = [0 for i in buckets]\n",
    "\n",
    "Q6(buckets, correct, total)"
   ]
  },
  {
   "cell_type": "markdown",
   "metadata": {
    "id": "7PYLz-1STzOu"
   },
   "source": [
    "ANSWER: \n",
    "The calibration is suboptimal. The total numbers we hit until 0.9999999 is less than 25%, and the accuracy is less than 0.52 In some sense we might have been better off starting from 0.9999999. The last bucket (1.0) gives a high accuracy. The accuracy number sounds somewhat over confident. "
   ]
  },
  {
   "cell_type": "markdown",
   "metadata": {
    "id": "tIeZGen1TzOv"
   },
   "source": [
    "### Question 7 EXTRA CREDIT: Feature generation\n",
    "---\n",
    "1. Design new features to see if you can produce a Bernoulli Naive Bayes model with better performance.\n",
    "1. Show the accuracy of a model based on the original features and the accuracy of the model based on the new features.\n",
    "\n",
    "**Note that improving results is actually hard.**\n",
    "\n",
    "Here are a few ideas to get you started:\n",
    "- Try summing or averaging the pixel values in each row.\n",
    "- Try summing or averaging the pixel values in each column.\n",
    "- Try summing or averaging the pixel values in each square block. (pick various block sizes)\n",
    "- Try implementing [*maxpool*](https://computersciencewiki.org/index.php/Max-pooling_/_Pooling) features, taking a rolling maximum over sub-regions of a the image. \n",
    "- In any case, you can either transform the original data or add new \"features\" to it.\n",
    "\n",
    "Notes:\n",
    "* Train on the mini train set (enhanced to comprise the new features).\n",
    "* Evaulate performance on the dev set.\n",
    "* Ensure that your code is well commented."
   ]
  },
  {
   "cell_type": "code",
   "execution_count": 41,
   "metadata": {
    "id": "6GtYu5ezTzOv"
   },
   "outputs": [
    {
     "name": "stdout",
     "output_type": "stream",
     "text": [
      "Accuracy with Blurring and Binarization: 0.839\n",
      "Accuracy with maxpool and binarization: 0.82\n"
     ]
    }
   ],
   "source": [
    "def Q7():\n",
    "\n",
    "### STUDENT START ###\n",
    "    def weighted_blur(image_data, nbrs=8):\n",
    "        sz = int(np.sqrt(image_data.shape[1])) # sqrt(784) for shaping into matrix\n",
    "        nbr_cnt = int(np.log2(nbrs)) # number of neighbor rows/columns for each pixel\n",
    "        wt = np.arange(.1, 1, .1).reshape(nbr_cnt, nbr_cnt) # used in weighthed avg. calc\n",
    "        wt_image_data = np.empty([0, image_data.shape[1]]) # init, to append new images\n",
    "        \n",
    "        for i in range(len(image_data)): # for every image in the data\n",
    "            image = (image_data[i]).reshape(sz, sz) # make it into 28x28 matrix\n",
    "            new_image = np.copy(image) # make a copy to overwrite with weighted calculations\n",
    "            image = np.pad(image, 1, mode='constant') # pad with 0s around to get 30x30 matrix\n",
    "            \n",
    "            for row in range(len(image) - 2): # for every row except padded rows\n",
    "                for col in range(len(image) - 2): # for evey col except padded cols\n",
    "                    new_image[row][col] = np.average(image[row: row+nbr_cnt, col: col+nbr_cnt], \n",
    "                                                     weights=wt) # weighted sum for new pixel\n",
    "            \n",
    "            new_image = new_image.flatten() # convert 28x28 array into 1-dim array\n",
    "            wt_image_data = np.append(wt_image_data, [new_image], axis=0) # same shape as image_data\n",
    "                   \n",
    "        return(wt_image_data)\n",
    "    \n",
    "    def bin_maxpool(d, threshold = 0.4, sub_sz=2):\n",
    "        '''d: data in n x 784 size, threshold: the threshold for flipping the pixel to 0 or 1, and\n",
    "           sub_sz: the sub size square matrix. For each row in d, generate the 28x28 matrix. For each 2x2 \n",
    "           (sub_sz x sub_sz) non-overlapping sub-matrix compute the max, compare to threshold, set it 0 or 1.\n",
    "        '''\n",
    "        \n",
    "        bin_maxpool_img = np.empty([0, d.shape[1]])\n",
    "        \n",
    "        for rows in range(d.shape[0]): # for each image in d\n",
    "            img = d[rows] \n",
    "            img = img.reshape(28, 28) # get the 28x28 version of the pixels\n",
    "            maxpool_arr = np.zeros(img.shape) # init an array\n",
    "            i = 0\n",
    "            while i <= img.shape[0] - sub_sz: # for all rows\n",
    "                j = 0\n",
    "                while j <= img.shape[1] - sub_sz: # for all cols\n",
    "                    if np.max(img[i:i+sub_sz, j:j+sub_sz]) > threshold: # get sub-matrix max and compare\n",
    "                        maxpool_arr[i:i+sub_sz, j:j+sub_sz] = 1\n",
    "                    else:\n",
    "                        maxpool_arr[i:i+sub_sz, j:j+sub_sz] = 0\n",
    "                    j += sub_sz\n",
    "                i += sub_sz\n",
    "            maxpool_arr = maxpool_arr.flatten()\n",
    "            bin_maxpool_img = np.append(bin_maxpool_img, [maxpool_arr], axis=0)\n",
    "                \n",
    "        return bin_maxpool_img\n",
    "\n",
    "    \n",
    "    # First blur the trainining and dev data, using the weighted_blur function written for Q1. Then, \n",
    "    # we apply binarization to the data to see if we can get better accuracy.\n",
    "    blur_train_data = weighted_blur(mini_train_data)\n",
    "    blur_dev_data = weighted_blur(dev_data)\n",
    "    \n",
    "    bin_blur_train_data = np.zeros(blur_train_data.shape) # create an all 0 array\n",
    "    bin_blur_dev_data = np.zeros(blur_dev_data.shape)\n",
    "    \n",
    "    bin_blur_train_data[(blur_train_data >= 0.35)] = 1 # flip to 1 based on threshold (0.1)\n",
    "    bin_blur_dev_data[(blur_dev_data >= 0.35)] = 1\n",
    "    \n",
    "    model_BNB = BernoulliNB(alpha=0.015) \n",
    "    model_BNB.fit(bin_blur_train_data, mini_train_labels)\n",
    "    \n",
    "    y_pred = model_BNB.predict(bin_blur_dev_data)\n",
    "    accuracy = model_BNB.score(bin_blur_dev_data, dev_labels)\n",
    "    print(\"Accuracy with Blurring and Binarization:\", accuracy)   \n",
    "\n",
    "    # Try with maxpool concept.\n",
    "    bin_pool_train = bin_maxpool(mini_train_data, threshold=0.7)\n",
    "    bin_pool_dev = bin_maxpool(dev_data, threshold=0.7)\n",
    "    \n",
    "    model_BNB = BernoulliNB(alpha=0.001) # use the best alpha (Question #3) for the data\n",
    "    model_BNB.fit(bin_pool_train, mini_train_labels)\n",
    "    \n",
    "    accuracy = model_BNB.score(bin_pool_dev, dev_labels)\n",
    "    print(\"Accuracy with maxpool and binarization:\", accuracy)   \n",
    "\n",
    "### STUDENT END ###\n",
    "\n",
    "Q7()"
   ]
  },
  {
   "cell_type": "markdown",
   "metadata": {},
   "source": [
    "The act of blurring, followed by binarization, seems to add a 1% increase in accuracy. However, maxpool and binarization doesn't improve much, while it doesn't degrade a whole lot either."
   ]
  }
 ],
 "metadata": {
  "colab": {
   "collapsed_sections": [],
   "name": "firstname_lastname_project2.ipynb",
   "provenance": []
  },
  "kernelspec": {
   "display_name": "Python 3",
   "language": "python",
   "name": "python3"
  },
  "language_info": {
   "codemirror_mode": {
    "name": "ipython",
    "version": 3
   },
   "file_extension": ".py",
   "mimetype": "text/x-python",
   "name": "python",
   "nbconvert_exporter": "python",
   "pygments_lexer": "ipython3",
   "version": "3.8.5"
  },
  "toc": {
   "base_numbering": 1,
   "nav_menu": {},
   "number_sections": false,
   "sideBar": true,
   "skip_h1_title": true,
   "title_cell": "Table of Contents",
   "title_sidebar": "Contents",
   "toc_cell": false,
   "toc_position": {},
   "toc_section_display": true,
   "toc_window_display": false
  }
 },
 "nbformat": 4,
 "nbformat_minor": 1
}
